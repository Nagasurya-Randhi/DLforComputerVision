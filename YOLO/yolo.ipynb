{
  "cells": [
    {
      "cell_type": "code",
      "execution_count": 159,
      "metadata": {
        "colab": {
          "base_uri": "https://localhost:8080/"
        },
        "id": "4FsWmDzKuE0E",
        "outputId": "c389a237-cac6-4e5d-8b01-355b215b62c1",
        "pycharm": {
          "is_executing": true
        },
        "tags": []
      },
      "outputs": [
        {
          "data": {
            "text/plain": [
              "<torch._C.Generator at 0x7f8aea04bdf0>"
            ]
          },
          "execution_count": 159,
          "metadata": {},
          "output_type": "execute_result"
        }
      ],
      "source": [
        "!pip install pytorch_lightning &> /dev/null\n",
        "\n",
        "import matplotlib.pyplot as plt\n",
        "import matplotlib.patches as patches\n",
        "import numpy as np\n",
        "import torch\n",
        "import torchvision\n",
        "import torch.nn as nn\n",
        "import pytorch_lightning as pl\n",
        "import pytorch_lightning.loggers as pl_loggers\n",
        "import pytorch_lightning.callbacks as pl_callbacks\n",
        "from tqdm import tqdm\n",
        "\n",
        "\n",
        "# CUDA for PyTorch\n",
        "use_cuda = torch.cuda.is_available()\n",
        "device = torch.device(\"cuda:0\" if use_cuda else \"cpu\")\n",
        "seed = 17\n",
        "torch.manual_seed(seed)"
      ]
    },
    {
      "cell_type": "code",
      "execution_count": null,
      "metadata": {
        "colab": {
          "base_uri": "https://localhost:8080/"
        },
        "id": "6Z19oG7FVNFe",
        "outputId": "21a93ede-aa25-42ca-daf2-ea435b9c581c"
      },
      "outputs": [
        {
          "name": "stdout",
          "output_type": "stream",
          "text": [
            "Mounted at /content/drive\n"
          ]
        }
      ],
      "source": [
        "from google.colab import drive\n",
        "drive.mount('/content/drive')\n"
      ]
    },
    {
      "cell_type": "code",
      "execution_count": null,
      "metadata": {
        "id": "ipm4sm5wuE0G",
        "pycharm": {
          "is_executing": true
        },
        "tags": []
      },
      "outputs": [],
      "source": [
        "# Use this function to import the provided data files\n",
        "def load_data(file_name):\n",
        "    return np.load(file_name, allow_pickle=True, encoding='latin1')['arr_0']\n",
        "\n",
        "images = load_data('/content/drive/My Drive/images.npz')\n",
        "raw_labels = load_data('/content/drive/My Drive/labels.npz')"
      ]
    },
    {
      "cell_type": "markdown",
      "metadata": {},
      "source": [
        "## Pre-Processing"
      ]
    },
    {
      "cell_type": "code",
      "execution_count": null,
      "metadata": {
        "id": "uyXnGY0xuE0H",
        "pycharm": {
          "is_executing": true
        },
        "tags": []
      },
      "outputs": [],
      "source": [
        "# This function cpmputes the 8X8X8 label from the raw labels for the corresponding image.\n",
        "def process_labels(raw_labels):\n",
        "    labels = np.zeros((8,8,8))\n",
        "    # print(raw_labels[0].shape)\n",
        "    # print(raw_labels)\n",
        "    for label in raw_labels:\n",
        "      object_class, x1, y1, x2, y2 = label\n",
        "      bb_center_x = (x2+x1)/2\n",
        "      bb_center_y = (y2+y1)/2\n",
        "\n",
        "      grid_x = int(bb_center_x/16) \n",
        "      grid_y = int(bb_center_y/16)\n",
        "\n",
        "      center_grid_x = (bb_center_x%16)/16\n",
        "      center_grid_y = (bb_center_y%16)/16\n",
        "\n",
        "      width  = (x2-x1)/128\n",
        "      height = (y2-y1)/128\n",
        "\n",
        "      object_prob = np.zeros(3)\n",
        "\n",
        "      #l[0] had object class\n",
        "      object_prob[int(label[0])] = 1\n",
        "\n",
        "      labels[0, grid_x, grid_y] = 1\n",
        "      labels[1:5, grid_x, grid_y] = [center_grid_x,center_grid_y,width,height]\n",
        "\n",
        "      labels[5:, grid_x, grid_y] = object_prob\n",
        "    # print(labels.shape)\n",
        "    # print(labels)\n",
        "    return labels"
      ]
    },
    {
      "cell_type": "code",
      "execution_count": null,
      "metadata": {
        "id": "ueK6ilAEuE0I",
        "pycharm": {
          "is_executing": true
        },
        "tags": []
      },
      "outputs": [],
      "source": [
        "# This function should perform the inverse operation of process_labels().\n",
        "def reconstruct_raw_labels(labels, img_dim=128):\n",
        "    #labels is 8x8x8\n",
        "    object_list = []\n",
        "    grid_idx_list = []\n",
        "    for idxs in np.argwhere(labels[0]==1):\n",
        "      object_list.append(labels[:,idxs[0],idxs[1]])\n",
        "      grid_idx_list.append(idxs)\n",
        "    # print(grid_idx_list)\n",
        "    raw_labels = np.zeros((len(object_list), 5))\n",
        "    for i, obj in enumerate(object_list):\n",
        "        raw_labels[i][0] = float(np.argwhere(obj[5:]==1))\n",
        "\n",
        "        eqn_1_x = obj[3]*img_dim\n",
        "        eqn_1_y = obj[4]*img_dim\n",
        "        # print(eqn_1_x, eqn_1_y) # x2-x1, y2-y1\n",
        "        grid_x = grid_idx_list[i][0]\n",
        "        grid_y = grid_idx_list[i][1]\n",
        "\n",
        "        center_grid_x_offset = obj[1]*16\n",
        "        center_grid_y_offset = obj[2]*16\n",
        "\n",
        "        eqn_2_x = 2*((grid_x)*16 + center_grid_x_offset)\n",
        "        eqn_2_y = 2*((grid_y)*16 + center_grid_y_offset)\n",
        "        # print(eqn_2_x, eqn_2_y) # x1+x2, y1+y2\n",
        "        raw_labels[i][-2] = (eqn_1_x+eqn_2_x)/2\n",
        "        raw_labels[i][-1] = (eqn_1_y+eqn_2_y)/2\n",
        "\n",
        "        raw_labels[i][-3] = (eqn_2_y - eqn_1_y)/2\n",
        "        raw_labels[i][-4] = (eqn_2_x - eqn_1_x)/2\n",
        "\n",
        "    return raw_labels"
      ]
    },
    {
      "cell_type": "code",
      "execution_count": null,
      "metadata": {
        "id": "UvvCr0MmVk7S"
      },
      "outputs": [],
      "source": [
        "# This function should perform the inverse operation of process_labels() for inference\n",
        "def reconstruct_raw_labels_inference(preds, img_dim=128):\n",
        "    #labels is nx8x8x8\n",
        "    labels = preds.squeeze().detach().cpu().numpy()\n",
        "    object_list = []\n",
        "    grid_idx_list = []\n",
        "    for idxs in np.argwhere(labels[0]>0):\n",
        "      object_list.append(labels[:,idxs[0],idxs[1]])\n",
        "      grid_idx_list.append(idxs)\n",
        "    raw_labels = np.zeros((len(object_list), 6))\n",
        "    for i, obj in enumerate(object_list):\n",
        "        # print(obj[5:])\n",
        "        raw_labels[i][0] = float(np.argmax(obj[5:]))\n",
        "\n",
        "        eqn_1_x = obj[3]*img_dim\n",
        "        eqn_1_y = obj[4]*img_dim\n",
        "        # print(eqn_1_x, eqn_1_y) # x2-x1, y2-y1\n",
        "        grid_x = grid_idx_list[i][0]\n",
        "        grid_y = grid_idx_list[i][1]\n",
        "\n",
        "        center_grid_x_offset = obj[1]*16\n",
        "        center_grid_y_offset = obj[2]*16\n",
        "\n",
        "        eqn_2_x = 2*((grid_x)*16 + center_grid_x_offset)\n",
        "        eqn_2_y = 2*((grid_y)*16 + center_grid_y_offset)\n",
        "        # print(eqn_2_x, eqn_2_y) # x1+x2, y1+y2\n",
        "        raw_labels[i][-2] = (eqn_1_x+eqn_2_x)/2\n",
        "        raw_labels[i][-1] = (eqn_1_y+eqn_2_y)/2\n",
        "\n",
        "        raw_labels[i][-3] = (eqn_2_y - eqn_1_y)/2\n",
        "        raw_labels[i][-4] = (eqn_2_x - eqn_1_x)/2\n",
        "\n",
        "    return raw_labels"
      ]
    },
    {
      "cell_type": "markdown",
      "metadata": {},
      "source": [
        "## Training"
      ]
    },
    {
      "cell_type": "code",
      "execution_count": 160,
      "metadata": {
        "id": "t3IFc3jDuE0J",
        "pycharm": {
          "is_executing": true
        },
        "tags": []
      },
      "outputs": [],
      "source": [
        "def yolo_loss(output, target):\n",
        "    # print(output.shape, target.shape)\n",
        "    # print(type(output), type(target))\n",
        "    object_idx  = target[:,0,:,:].nonzero()\n",
        "    nobject_idx = (target[:,0,:,:]==0).nonzero()\n",
        "    # print(object_idx[0,:], nobject_idx[0,:])\n",
        "    target_object    = target[object_idx[:,0],:,object_idx[:,1],object_idx[:,2]]\n",
        "    predicted_object = output[object_idx[:,0],:,object_idx[:,1],object_idx[:,2]]\n",
        "\n",
        "    predicted_nobject = output[nobject_idx[:,0],:,nobject_idx[:,1],nobject_idx[:,2]]\n",
        "\n",
        "    localization_loss = torch.sum((target_object[:,1]-predicted_object[:,1])**2 +\n",
        "                                  (target_object[:,2]-predicted_object[:,2])**2)\n",
        "\n",
        "    bbox_loss         = torch.sum((torch.sqrt(target_object[:,3])-torch.sqrt(predicted_object[:,3]))**2 +\n",
        "                                  (torch.sqrt(target_object[:,4])-torch.sqrt(predicted_object[:,4]))**2)\n",
        "    \n",
        "    ##########################################\n",
        "    prediction = predicted_object[:, 1:5]\n",
        "    grnd_truth = target_object[:, 1:5]\n",
        "\n",
        "    cpx = prediction[:,0]\n",
        "    cpy = prediction[:,1]\n",
        "    wp = prediction[:,2]\n",
        "    hp = prediction[:,3]\n",
        "    \n",
        "    \n",
        "    cgx = grnd_truth[:,0]\n",
        "    cgy = grnd_truth[:,1]\n",
        "    wg = grnd_truth[:,2]\n",
        "    hg = grnd_truth[:,3]\n",
        "    \n",
        "    wp= wp * 128\n",
        "    hp= hp * 128\n",
        "    wg= wg * 128\n",
        "    hg= hg * 128\n",
        "\n",
        "    cpx = cpx * 16 + object_idx[:,0] * 16\n",
        "    cpy = cpy * 16 + object_idx[:,1] * 16\n",
        "    cgx = cgx * 16 + object_idx[:,0] * 16\n",
        "    cgy = cgy * 16 + object_idx[:,1] * 16\n",
        "\n",
        "    box1 =  [cpx-wp/2, cpy-hp/2, cpx+wp/2, cpy+hp/2]\n",
        "    box2 =  [cgx-wg/2, cgy-hg/2, cgx+wg/2, cgy+hg/2]\n",
        "\n",
        "    xA = torch.max(box1[0], box2[0])\n",
        "    yA = torch.max(box1[1], box2[1])\n",
        "\n",
        "    xB = torch.min(box1[2], box2[2])\n",
        "    yB = torch.min(box1[3], box2[3])\n",
        "\n",
        "    area_intersection = torch.max(xB-xA, torch.zeros(xB.shape, dtype=xB.dtype, device=xB.device)) * torch.max(yB-yA, torch.zeros(yB.shape, dtype=yB.dtype, device=yB.device))\n",
        "\n",
        "    area_union = (box1[2]-box1[0]) * (box1[3]-box1[1]) + (box2[2]-box2[0]) * (box2[3]-box2[1]) - area_intersection\n",
        "\n",
        "    iou = torch.clip(torch.div(area_intersection+1,area_union+1), 0, 1)\n",
        "    ##########################\n",
        "    obj_confidence_loss = torch.sum((iou - predicted_object[:,0])**2)\n",
        "    # obj_confidence_loss = torch.sum((1 - predicted_object[:,0])**2)\n",
        "    nobj_confidence_loss= torch.sum((0 - predicted_nobject[:, 0])**2)\n",
        "    pc_loss = torch.sum((target_object[:,5:]-predicted_object[:,5:])**2)\n",
        "    loss = 5.0*(localization_loss + bbox_loss) + obj_confidence_loss + 0.5*nobj_confidence_loss + pc_loss\n",
        "\n",
        "    return loss"
      ]
    },
    {
      "cell_type": "code",
      "execution_count": 178,
      "metadata": {
        "id": "FwtmctIiuE0K",
        "pycharm": {
          "is_executing": true
        },
        "tags": []
      },
      "outputs": [],
      "source": [
        "train_loss, val_loss, mAP_train = [], [], []\n",
        "class YOLO(pl.LightningModule):\n",
        "    def __init__(self):\n",
        "      super(YOLO, self).__init__()\n",
        "      self.model_url = \"\"\n",
        "      self.relu = torch.nn.ReLU(inplace=False)\n",
        "      \n",
        "      self.conv1 = torch.nn.Conv2d(3,32,kernel_size=4,padding=1, stride=2)\n",
        "      self.batch_norm1 = torch.nn.BatchNorm2d(32,eps=1e-05,momentum=0.1,\n",
        "                                              affine=True,track_running_stats=True)\n",
        "      \n",
        "      self.conv2 = torch.nn.Conv2d(32,64,kernel_size=4,padding=1, stride=2)\n",
        "      self.batch_norm2 = torch.nn.BatchNorm2d(64,eps=1e-05,momentum=0.1,\n",
        "                                              affine=True,track_running_stats=True)\n",
        "\n",
        "      self.conv3 = torch.nn.Conv2d(64,128,kernel_size=4,padding=1, stride=2)\n",
        "      self.batch_norm3 = torch.nn.BatchNorm2d(128,eps=1e-05,momentum=0.1,\n",
        "                                              affine=True,track_running_stats=True)\n",
        "      \n",
        "      self.conv4 = torch.nn.Conv2d(128, 256, kernel_size=4,padding=1, stride=2)\n",
        "      self.batch_norm4 = torch.nn.BatchNorm2d(256,eps=1e-05,momentum=0.1,\n",
        "                                              affine=True,track_running_stats=True)\n",
        "      \n",
        "      self.conv5 = torch.nn.Conv2d(256,512,kernel_size=4,padding=1, stride=2)\n",
        "      self.batch_norm5 = torch.nn.BatchNorm2d(512,eps=1e-05,momentum=0.1,\n",
        "                                              affine=True,track_running_stats=True)\n",
        "      \n",
        "      self.conv6 = torch.nn.Conv2d(512,1024, kernel_size=4,padding=1, stride=2)\n",
        "      self.batch_norm6 = torch.nn.BatchNorm2d(1024, eps=1e-05,momentum=0.1,\n",
        "                                              affine=True,track_running_stats=True)\n",
        "\n",
        "      self.conv7 = torch.nn.ConvTranspose2d(1024, 256, kernel_size=4,padding=1, stride=2)\n",
        "      self.batch_norm7 = torch.nn.BatchNorm2d(256, eps=1e-05,momentum=0.1,\n",
        "                                              affine=True,track_running_stats=True)\n",
        "      \n",
        "      self.conv8 = torch.nn.ConvTranspose2d(256, 64, kernel_size=4,padding=1, stride=2)\n",
        "      self.batch_norm8 = torch.nn.BatchNorm2d(64, eps=1e-05,momentum=0.1,\n",
        "                                              affine=True,track_running_stats=True)\n",
        "\n",
        "      self.conv9 = torch.nn.Conv2d(64, 8, kernel_size=3, padding=1, stride=1)\n",
        "\n",
        "\n",
        "    def forward(self, x):\n",
        "      layer1 = self.relu(self.batch_norm1(self.conv1(x)))\n",
        "      layer2 = self.relu(self.batch_norm2(self.conv2(layer1)))\n",
        "      layer3 = self.relu(self.batch_norm3(self.conv3(layer2)))\n",
        "      layer4 = self.relu(self.batch_norm4(self.conv4(layer3)))\n",
        "      layer5 = self.relu(self.batch_norm5(self.conv5(layer4)))\n",
        "      layer6 = self.relu(self.batch_norm6(self.conv6(layer5)))\n",
        "      layer7 = self.relu(self.batch_norm7(self.conv7(layer6)))\n",
        "      layer8 = self.relu(self.batch_norm8(self.conv8(layer7)))\n",
        "      out = torch.sigmoid(self.conv9(layer8))\n",
        "      return out      \n",
        "\n",
        "    def training_step(self, batch, batch_idx):\n",
        "        input, label = batch\n",
        "        input, label = input.to(device), label.to(device)\n",
        "\n",
        "        output = self(input)\n",
        "        loss = yolo_loss(output, label)\n",
        "        self.log(\"train_loss\", loss)\n",
        "        train_loss.append(loss.item())\n",
        "        return loss\n",
        "\n",
        "    def validation_step(self, batch, batch_idx):\n",
        "        input, label = batch\n",
        "        input, label = input.to(device), label.to(device)\n",
        "        output = self(input)\n",
        "        loss = yolo_loss(output, label)\n",
        "        self.log(\"val_loss\", loss)\n",
        "        val_loss.append(loss.item())\n",
        "        # mAP_train.append(calculate_map(test_loader))\n",
        "\n",
        "        return output, label\n",
        "\n",
        "    def configure_optimizers(self):\n",
        "        return torch.optim.Adam(self.parameters(), lr=10e-4)\n",
        "\n",
        "    def load_from_url():\n",
        "      return YOLO.load_from_checkpoint(YOLO.model_url) "
      ]
    },
    {
      "cell_type": "code",
      "execution_count": null,
      "metadata": {
        "id": "lR1VtIeiNSrx"
      },
      "outputs": [],
      "source": [
        "def iou_nms(coord1, coord2, nms_output):\n",
        "  #Extracting centers and h w\n",
        "  cpx = nms_output[1,coord1[0],coord1[1]]\n",
        "  cpy = nms_output[2,coord1[0],coord1[1]]\n",
        "  wp  = nms_output[3,coord1[0],coord1[1]]\n",
        "  hp  = nms_output[4,coord1[0],coord1[1]]\n",
        "  \n",
        "  \n",
        "  cgx = nms_output[1,coord2[0],coord2[1]]\n",
        "  cgy = nms_output[2,coord2[0],coord2[1]]\n",
        "  wg  = nms_output[3,coord2[0],coord2[1]] \n",
        "  hg  = nms_output[4,coord2[0],coord2[1]]\n",
        "  \n",
        "  #Rescaling width and height\n",
        "  wp= wp * 128\n",
        "  hp= hp * 128\n",
        "  wg= wg * 128\n",
        "  hg= hg * 128\n",
        "\n",
        "  #Rescaling center\n",
        "  cpx = cpx * 16 + coord1[0] * 16\n",
        "  cpy = cpy * 16 + coord1[1] * 16\n",
        "  cgx = cgx * 16 + coord2[0] * 16\n",
        "  cgy = cgy * 16 + coord2[1] * 16\n",
        "\n",
        "  #Box format [x1 y1 x2 y2]\n",
        "  box1 =  [cpx-wp/2, cpy-hp/2, cpx+wp/2, cpy+hp/2]\n",
        "  box2 =  [cgx-wg/2, cgy-hg/2, cgx+wg/2, cgy+hg/2]\n",
        "\n",
        "  xA = torch.max(box1[0], box2[0])\n",
        "  yA = torch.max(box1[1], box2[1])\n",
        "\n",
        "  xB = torch.min(box1[2], box2[2])\n",
        "  yB = torch.min(box1[3], box2[3])\n",
        "\n",
        "  area_intersection = torch.max(xB-xA, torch.zeros(xB.shape, dtype=xB.dtype, device=xB.device)) * torch.max(yB-yA, torch.zeros(yB.shape, dtype=yB.dtype, device=yB.device))\n",
        "\n",
        "  area_union = (box1[2]-box1[0]) * (box1[3]-box1[1]) + (box2[2]-box2[0]) * (box2[3]-box2[1]) - area_intersection\n",
        "\n",
        "  iou = torch.div(area_intersection+1,area_union+1)\n",
        "  return iou"
      ]
    },
    {
      "cell_type": "markdown",
      "metadata": {},
      "source": [
        "## Post-Processing"
      ]
    },
    {
      "cell_type": "code",
      "execution_count": 161,
      "metadata": {
        "id": "PGJA5ggIuE0L",
        "pycharm": {
          "is_executing": true
        },
        "tags": []
      },
      "outputs": [],
      "source": [
        "def low_confidence_suppression(label):\n",
        "    below_threshold = torch.le(label[:,0,:,:],0.6).nonzero()\n",
        "    label[below_threshold[:,0], 0, below_threshold[:,1], below_threshold[:,2]] = 0\n",
        "    return label\n",
        "\n",
        "def non_max_suppression(label):\n",
        "  #network output (n,8,8,8)\n",
        "\n",
        "    classes = 3\n",
        "    nms_threshold = 0.3\n",
        "    for i in range(label.shape[0]):\n",
        "      for c in range(classes):\n",
        "        grid_coords = torch.logical_and(torch.max(label[i,5:8,:,:],dim=0)[1] == c , label[i,0,:,:]>nms_threshold).nonzero() \n",
        "        for coord1 in grid_coords:\n",
        "          confidence_score_c1 = label[i,0,coord1[0],coord1[1]] * label[i,5+c,coord1[0],coord1[1]]\n",
        "          for coord2 in grid_coords:\n",
        "            confidence_score_c2 = label[i,0,coord2[0],coord2[1]] * label[i,5+c,coord2[0],coord2[1]]\n",
        "            if(iou_nms(coord1, coord2, label[i,:,:,:])>0.5 and confidence_score_c1<confidence_score_c2):\n",
        "              label[i,0,coord1[0],coord1[1]] = 0\n",
        "    return label"
      ]
    },
    {
      "cell_type": "code",
      "execution_count": 164,
      "metadata": {
        "id": "iG_zgCYcjwf7"
      },
      "outputs": [],
      "source": [
        "def average_precision(matches, scores, trues):\n",
        "\n",
        "  matches = np.asarray(matches)\n",
        "  scores = np.asarray(scores)\n",
        "  max = np.max(scores)\n",
        "\n",
        "\n",
        "  ln  = np.linspace(0.6, max, 100)\n",
        "  recall_mat = np.zeros((101))\n",
        "  precision_mat = np.zeros((101))\n",
        "\n",
        "  for i, th in enumerate(ln):\n",
        "    TP = np.sum(matches[scores>th])\n",
        "    P  = matches[scores>th].shape[0]\n",
        "\n",
        "    precision = 1\n",
        "    if P>0:\n",
        "      precision = TP/P\n",
        "\n",
        "    recall =1\n",
        "    if trues>0:\n",
        "      recall = TP/trues\n",
        "    precision_mat[i] = precision\n",
        "    recall_mat[i] = recall\n",
        "\n",
        "  recall_mat[100]    = 0\n",
        "  precision_mat[100] = 1\n",
        "\n",
        "  sorted_ind       = np.argsort(recall_mat)\n",
        "  sorted_recall    = recall_mat[sorted_ind]\n",
        "  sorted_precision = precision_mat[sorted_ind]\n",
        "  area = metrics.auc(sorted_recall, sorted_precision)\n",
        "  \n",
        "  return area, recall_mat, precision_mat"
      ]
    },
    {
      "cell_type": "markdown",
      "metadata": {},
      "source": [
        "## Evaluation"
      ]
    },
    {
      "cell_type": "code",
      "execution_count": 162,
      "metadata": {
        "id": "QE1uWD4yETGn"
      },
      "outputs": [],
      "source": [
        "from sklearn import metrics \n",
        "def yolo_evaluation(output, target):\n",
        "  iou_thresh = 0.5\n",
        "\n",
        "  object_idx  = output[:,0,:,:].nonzero()\n",
        "  nobject_idx = (output[:,0,:,:]==0).nonzero()\n",
        "\n",
        "  target_object    = target[object_idx[:,0],:,object_idx[:,1],object_idx[:,2]]\n",
        "  predicted_object = output[object_idx[:,0],:,object_idx[:,1],object_idx[:,2]]\n",
        "  prediction = predicted_object[:, 1:5]\n",
        "  grnd_truth = target_object[:, 1:5]\n",
        "  \n",
        "  #########################################\n",
        "  cpx = prediction[:,0]\n",
        "  cpy = prediction[:,1]\n",
        "  wp = prediction[:,2]\n",
        "  hp = prediction[:,3]\n",
        "  \n",
        "  \n",
        "  cgx = grnd_truth[:,0]\n",
        "  cgy = grnd_truth[:,1]\n",
        "  wg = grnd_truth[:,2]\n",
        "  hg = grnd_truth[:,3]\n",
        "  \n",
        "  wp= wp * 128\n",
        "  hp= hp * 128\n",
        "  wg= wg * 128\n",
        "  hg= hg * 128\n",
        "\n",
        "  cpx = cpx * 16 + object_idx[:,0] * 16\n",
        "  cpy = cpy * 16 + object_idx[:,1] * 16\n",
        "  cgx = cgx * 16 + object_idx[:,0] * 16\n",
        "  cgy = cgy * 16 + object_idx[:,1] * 16\n",
        "\n",
        "  box1 =  [cpx-wp/2, cpy-hp/2, cpx+wp/2, cpy+hp/2]\n",
        "  box2 =  [cgx-wg/2, cgy-hg/2, cgx+wg/2, cgy+hg/2]\n",
        "\n",
        "  xA = torch.max(box1[0], box2[0])\n",
        "  yA = torch.max(box1[1], box2[1])\n",
        "\n",
        "  xB = torch.min(box1[2], box2[2])\n",
        "  yB = torch.min(box1[3], box2[3])\n",
        "\n",
        "  area_intersection = torch.max(xB-xA, torch.zeros(xB.shape, dtype=xB.dtype, device=xB.device)) * torch.max(yB-yA, torch.zeros(yB.shape, dtype=yB.dtype, device=yB.device))\n",
        "\n",
        "  area_union = (box1[2]-box1[0]) * (box1[3]-box1[1]) + (box2[2]-box2[0]) * (box2[3]-box2[1]) - area_intersection\n",
        "\n",
        "  iou = torch.clip(torch.div(area_intersection+1,area_union+1), 0, 1)\n",
        "\n",
        "  ###########################################\n",
        "\n",
        "\n",
        "  confidence_scores = output[object_idx[:,0],0,object_idx[:,1],object_idx[:,2]] * torch.max(output[object_idx[:,0],5:8,object_idx[:,1],object_idx[:,2]],dim=1)[0]\n",
        "  batch_proc = []\n",
        "  \n",
        "  for one_op in range(output.shape[0]):\n",
        "    batch_proc.append(reconstruct_raw_labels_inference(output[one_op]))\n",
        "  \n",
        "  idx_cnt = 0\n",
        "  batch_idxs = torch.unique(object_idx[:,0])\n",
        "  # print(confidence_scores)\n",
        "  for i in range(len(batch_proc)):\n",
        "    if i in batch_idxs:\n",
        "      batch_proc[i][:,1] = (confidence_scores[idx_cnt:idx_cnt+batch_proc[i].shape[0]]).cpu().numpy() \n",
        "      \n",
        "      idx_cnt += batch_proc[i].shape[0]\n",
        "    else:\n",
        "      batch_proc[i] = None\n",
        "  classes = torch.max(output[object_idx[:,0],5:8,object_idx[:,1],object_idx[:,2]],dim=1)[1] \n",
        "  all_matches = torch.gt(iou,iou_thresh)\n",
        "\n",
        "  trues_idx  = target[:,0,:,:].nonzero()\n",
        "  target_classes    = torch.max(target[trues_idx[:,0],5:8,trues_idx[:,1],trues_idx[:,2]], dim=1)[1]\n",
        "\n",
        "  total_classes = 3\n",
        "  trues = {}\n",
        "  scores = {}\n",
        "  matches = {}\n",
        "  for c in range(total_classes):\n",
        "    trues[c]=(torch.sum(target_classes == c)).item()\n",
        "    scores[c]=(confidence_scores[classes==c]).cpu().tolist()\n",
        "    matches[c]=(all_matches[classes==c]).cpu().tolist()\n",
        "  return matches, scores, trues, batch_proc"
      ]
    },
    {
      "cell_type": "code",
      "execution_count": 192,
      "metadata": {
        "id": "vxJbs_dGlJnu"
      },
      "outputs": [],
      "source": [
        "def calculate_map(test_loader, plot=False):\n",
        "  matches= {0:[],1:[],2:[]}\n",
        "  scores = {0:[],1:[],2:[]}\n",
        "  trues  = {0:0,1:0,2:0}\n",
        "  classes =3\n",
        "  predicted_labels = []\n",
        "\n",
        "  with torch.no_grad():\n",
        "    for i, (image, label) in enumerate(test_loader):\n",
        "      # recon_label = reconstruct_raw_labels(label.squeeze().detach().numpy())\n",
        "      image, label = image.cuda(), label.cuda()\n",
        "      output = model(image)\n",
        "      low_thresh_output = low_confidence_suppression(output)\n",
        "      nms_output = non_max_suppression(low_thresh_output)\n",
        "\n",
        "      m, s, t, batch_proc = yolo_evaluation(nms_output, label)\n",
        "      predicted_labels += batch_proc\n",
        "      \n",
        "      for c in range(classes): \n",
        "            if(len(m[c])>0):\n",
        "              matches[c].extend(m[c])\n",
        "            if(len(s[c])>0):\n",
        "              # print(s[c])\n",
        "              scores[c].extend(s[c])\n",
        "            trues[c]  = trues[c]+t[c]\n",
        "\n",
        "  AP=0\n",
        "  cnt=0\n",
        "  mAP = 0\n",
        "  for c in range(classes):\n",
        "    if (len(matches[c])>0):\n",
        "\n",
        "      area, recall_mat, precision_mat = average_precision(matches[c],scores[c],trues[c])\n",
        "      AP  += area\n",
        "      # print(recall_mat, precision_mat)\n",
        "      if plot:\n",
        "        plt.figure()\n",
        "        plt.plot(recall_mat, precision_mat)\n",
        "        plt.xlabel(\"Recall\")\n",
        "        plt.ylabel(\"Precision\")\n",
        "        plt.title(\"Curve for class \"+str(c))\n",
        "        plt.show()\n",
        "        print(\"class \", c, \":\",AP)\n",
        "      cnt+=1;\n",
        "  if cnt>0:\n",
        "    mAP=AP/cnt\n",
        "\n",
        "  return mAP, predicted_labels"
      ]
    },
    {
      "cell_type": "code",
      "execution_count": 163,
      "metadata": {
        "id": "0dE22iZkPegm"
      },
      "outputs": [],
      "source": [
        "def plot_bbox(image, recon_labels):\n",
        "  fig, ax = plt.subplots()\n",
        "  ax.imshow(image)\n",
        "\n",
        "  for label in recon_labels: #class, x1, y1, x2, y2\n",
        "    if label[0]==0:\n",
        "      rect = patches.Rectangle((label[1], label[4]), label[3]-label[1], label[2]-label[4], linewidth=2, edgecolor='b', facecolor='none')\n",
        "      ax.add_patch(rect)\n",
        "    if label[0]==1:\n",
        "      rect = patches.Rectangle((label[1], label[4]), label[3]-label[1], label[2]-label[4], linewidth=2, edgecolor='r', facecolor='none')\n",
        "      ax.add_patch(rect)\n",
        "    if label[0]==2:\n",
        "      rect = patches.Rectangle((label[1], label[4]), label[3]-label[1], label[2]-label[4], linewidth=2, edgecolor='g', facecolor='none')\n",
        "      ax.add_patch(rect)\n",
        "\n",
        "  plt.show()"
      ]
    },
    {
      "cell_type": "markdown",
      "metadata": {
        "id": "qYa_Hm1rQ3j7"
      },
      "source": [
        "#### Creating Custom Dataset and dataloaders"
      ]
    },
    {
      "cell_type": "code",
      "execution_count": 190,
      "metadata": {
        "id": "-2faIfPruE0Z",
        "pycharm": {
          "is_executing": true
        },
        "tags": []
      },
      "outputs": [],
      "source": [
        "# Setup your training\n",
        "model = YOLO().to(device)\n",
        "checkpoint_callback = pl_callbacks.ModelCheckpoint()\n",
        "tb_logger = pl_loggers.TensorBoardLogger(\"log/\")\n",
        "\n",
        "class CustomDataset(torch.utils.data.Dataset):\n",
        "\n",
        "    def __init__(self, images, raw_labels):\n",
        "        self.images = images\n",
        "        self.labels = raw_labels\n",
        "        \n",
        "    def __len__(self):\n",
        "        return len(self.images)\n",
        "\n",
        "    def __getitem__(self, idx):\n",
        "        images = np.transpose(self.images[idx], (2,0,1))\n",
        "        targets = process_labels(self.labels[idx])\n",
        "        images, targets = torch.Tensor(images), torch.Tensor(targets)\n",
        "        images = images/255.0\n",
        "        return images, targets\n",
        "\n",
        "\n",
        "train_dataset = CustomDataset(images[:int(0.8*len(images))], raw_labels[:int(0.8*len(images))])\n",
        "test_dataset = CustomDataset(images[int(0.8*len(images)):], raw_labels[int(0.8*len(images)):])\n",
        "\n",
        "train_loader = torch.utils.data.DataLoader(train_dataset, batch_size=64, shuffle=True)\n",
        "test_loader = torch.utils.data.DataLoader(test_dataset, batch_size=64)"
      ]
    },
    {
      "cell_type": "markdown",
      "metadata": {
        "id": "yXFb7NRunR6G"
      },
      "source": [
        "#### Training the model"
      ]
    },
    {
      "cell_type": "code",
      "execution_count": null,
      "metadata": {
        "id": "bXPPHIkkF8Gc"
      },
      "outputs": [],
      "source": [
        "# Train your model\n",
        "trainer = pl.Trainer(gpus=1, logger=tb_logger, max_epochs=20, callbacks=[checkpoint_callback])\n",
        "trainer.fit(model, train_loader, test_loader)"
      ]
    },
    {
      "cell_type": "markdown",
      "metadata": {
        "id": "V1q8-aILnFHN"
      },
      "source": [
        "#### Training Loss"
      ]
    },
    {
      "cell_type": "code",
      "execution_count": null,
      "metadata": {
        "colab": {
          "base_uri": "https://localhost:8080/",
          "height": 295
        },
        "id": "o8iuHfJjLqLH",
        "outputId": "8cd872e1-ec02-4197-d47b-2fa98f4ef017"
      },
      "outputs": [
        {
          "data": {
            "image/png": "[encoded data removed]",
            "text/plain": [
              "<Figure size 432x288 with 1 Axes>"
            ]
          },
          "metadata": {
            "needs_background": "light"
          },
          "output_type": "display_data"
        }
      ],
      "source": [
        "plt.plot(train_loss)\n",
        "plt.title(\"Training Loss\")\n",
        "plt.xlabel(\"Step\")\n",
        "plt.ylabel(\"Loss\")\n",
        "plt.show()"
      ]
    },
    {
      "cell_type": "markdown",
      "metadata": {
        "id": "o1jlmME7nAfq"
      },
      "source": [
        "#### Validation Loss"
      ]
    },
    {
      "cell_type": "code",
      "execution_count": null,
      "metadata": {
        "colab": {
          "base_uri": "https://localhost:8080/",
          "height": 295
        },
        "id": "XEvSQnXuLwfq",
        "outputId": "935eb8a3-8050-47eb-daca-bcbc4fbf348f"
      },
      "outputs": [
        {
          "data": {
            "image/png": "[encoded data removed]",
            "text/plain": [
              "<Figure size 432x288 with 1 Axes>"
            ]
          },
          "metadata": {
            "needs_background": "light"
          },
          "output_type": "display_data"
        }
      ],
      "source": [
        "plt.plot(val_loss)\n",
        "plt.title(\"Validation Loss\")\n",
        "plt.xlabel(\"Step\")\n",
        "plt.ylabel(\"Loss\")\n",
        "plt.show()"
      ]
    },
    {
      "cell_type": "code",
      "execution_count": 185,
      "metadata": {
        "colab": {
          "base_uri": "https://localhost:8080/"
        },
        "id": "qFkwVCgjj9Yd",
        "outputId": "05cc4629-ab85-492f-9d5d-031af7a5b26f"
      },
      "outputs": [
        {
          "name": "stderr",
          "output_type": "stream",
          "text": [
            "\n",
            "\n",
            "100%|██████████| 20/20 [16:44<00:00, 50.21s/it]\n"
          ]
        }
      ],
      "source": [
        "epochs = 20\n",
        "optimizer = torch.optim.Adam(model.parameters(), lr=10e-4)\n",
        "map_train = []\n",
        "for e in tqdm(range(epochs)):\n",
        "  for i, (image,label) in enumerate(train_loader):\n",
        "    image, label = image.to(device), label.to(device)\n",
        "    optimizer.zero_grad()\n",
        "    output = model(image)\n",
        "\n",
        "    loss = yolo_loss(output, label)\n",
        "    loss.backward()\n",
        "    optimizer.step()\n",
        "  \n",
        "  # test for map\n",
        "  m, _ = calculate_map(test_loader)\n",
        "  # print(m)\n",
        "  map_train.append(m)"
      ]
    },
    {
      "cell_type": "markdown",
      "metadata": {
        "id": "uI9OBY6-uE0f"
      },
      "source": [
        "## References\n",
        "\n",
        "Original YOLO paper:  \n",
        "https://arxiv.org/pdf/1506.02640.pdf\n",
        "\n",
        "Intuitive Explanation:  \n",
        "https://towardsdatascience.com/yolo-you-only-look-once-real-time-object-detection-explained-492dc9230006\n",
        "\n",
        "YOLO Video Tutorial:  \n",
        "https://www.youtube.com/watch?v=9s_FpMpdYW8&list=PLkDaE6sCZn6Gl29AoE31iwdVwSG-KnDzF&index=30\n",
        "\n",
        "mean Average Precision:  \n",
        "https://medium.com/@jonathan_hui/map-mean-average-precision-for-object-detection-45c121a31173\n",
        "\n",
        "Intersection over Union:  \n",
        "https://www.pyimagesearch.com/2016/11/07/intersection-over-union-iou-for-object-detection"
      ]
    }
  ],
  "metadata": {
    "accelerator": "GPU",
    "colab": {
      "collapsed_sections": [],
      "provenance": []
    },
    "gpuClass": "standard",
    "kernelspec": {
      "display_name": "Python 3.8.8 ('base')",
      "language": "python",
      "name": "python3"
    },
    "language_info": {
      "codemirror_mode": {
        "name": "ipython",
        "version": 3
      },
      "file_extension": ".py",
      "mimetype": "text/x-python",
      "name": "python",
      "nbconvert_exporter": "python",
      "pygments_lexer": "ipython3",
      "version": "3.8.8"
    },
    "vscode": {
      "interpreter": {
        "hash": "e282e83f36355b20329e11f4f4c7dfbd80ebb38cc7427e29d7ee94170f2fee1c"
      }
    }
  },
  "nbformat": 4,
  "nbformat_minor": 0
}
